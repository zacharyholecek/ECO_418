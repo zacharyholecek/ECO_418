{
 "cells": [
  {
   "cell_type": "code",
   "execution_count": 4,
   "metadata": {},
   "outputs": [],
   "source": [
    "import random\n",
    "import numpy\n",
    "\n",
    "def function_val(lottery, prizes):\n",
    "    \n",
    "    return(numpy.dot(lottery,prizes))\n",
    "\n",
    "\n",
    "def generate_prizes():\n",
    "    \n",
    "    u1 = random.randint(3,100)\n",
    "    u2 = random.randint(2,u1-1)\n",
    "    u3 = random.randint(1,u2-1)\n",
    "    \n",
    "    return([u1,u2,u3])\n",
    "\n",
    "def generate_lotteries():\n",
    "    \n",
    "    p1 = random.randint(1,100)\n",
    "    p2 = random.randint(0,100-p1)\n",
    "    p3 = 100 - p1 - p2\n",
    "    \n",
    "    \n",
    "    return([p1/100,p2/100,p3/100])\n",
    "    \n",
    "def main():\n",
    "    while(True):\n",
    "\n",
    "        u = generate_prizes()\n",
    "        v = generate_prizes()\n",
    "\n",
    "        p = generate_lotteries()\n",
    "        q = generate_lotteries()\n",
    "        r = generate_lotteries()\n",
    "\n",
    "        ur = function_val(r, u)\n",
    "        up = function_val(p, u)\n",
    "        uq = function_val(q, u)\n",
    "\n",
    "        vr = function_val(r, v)\n",
    "        vp = function_val(p, v)\n",
    "        vq = function_val(q, v)\n",
    "\n",
    "\n",
    "       # if(ur > up and up >= uq and vq >= vr and vr >= vp):\n",
    "        if(up > uq and uq > ur and vp == vq and vq > vr):  \n",
    "\n",
    "            print(\"found them!\")\n",
    "\n",
    "            print(\"u: \", u)\n",
    "            print(\"v: \", v)\n",
    "            print(\"p: \",p)\n",
    "            print(\"q: \",q)\n",
    "            print(\"r: \", r)\n",
    "\n",
    "            break\n",
    "\n",
    "        print(\"nada\")\n",
    "\n",
    "    \n",
    "    \n",
    "    \n",
    "    \n",
    "    \n",
    "    \n",
    "\n",
    "\n",
    "    \n",
    "    \n",
    "    "
   ]
  },
  {
   "cell_type": "code",
   "execution_count": 5,
   "metadata": {},
   "outputs": [
    {
     "data": {
      "text/plain": [
       "16.759999999999998"
      ]
     },
     "execution_count": 5,
     "metadata": {},
     "output_type": "execute_result"
    }
   ],
   "source": [
    "function_val(r, v)"
   ]
  },
  {
   "cell_type": "code",
   "execution_count": null,
   "metadata": {},
   "outputs": [],
   "source": []
  }
 ],
 "metadata": {
  "kernelspec": {
   "display_name": "Python 3",
   "language": "python",
   "name": "python3"
  },
  "language_info": {
   "codemirror_mode": {
    "name": "ipython",
    "version": 3
   },
   "file_extension": ".py",
   "mimetype": "text/x-python",
   "name": "python",
   "nbconvert_exporter": "python",
   "pygments_lexer": "ipython3",
   "version": "3.7.3"
  }
 },
 "nbformat": 4,
 "nbformat_minor": 2
}
